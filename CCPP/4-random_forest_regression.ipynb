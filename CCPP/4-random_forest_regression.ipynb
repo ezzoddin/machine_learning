{
 "cells": [
  {
   "cell_type": "markdown",
   "metadata": {
    "colab_type": "text",
    "id": "LeamvpPVXuS_"
   },
   "source": [
    "# Support Vector Regression (SVR)"
   ]
  },
  {
   "cell_type": "code",
   "execution_count": 10,
   "metadata": {
    "colab": {},
    "colab_type": "code",
    "id": "PVmESEFZX4Ig"
   },
   "outputs": [
    {
     "name": "stdout",
     "output_type": "stream",
     "text": [
      "RMSE :  18.034017442142982\n",
      "R2 Score :  -0.029706510692603105\n"
     ]
    }
   ],
   "source": [
    "import numpy as np\n",
    "import pandas as pd\n",
    "from sklearn.metrics import mean_squared_error\n",
    "from sklearn.svm import SVR\n",
    "from sklearn.model_selection import train_test_split\n",
    "\n",
    "dataset = pd.read_excel(r'E:\\machineLearning\\github\\CCPP\\CCPP.xlsx')\n",
    "X = dataset.iloc[:, :-1].values\n",
    "y = dataset.iloc[:, -1].values\n",
    "\n",
    "xtrain , xtest, ytrain, ytest = train_test_split(X,y,test_size=0.2, random_state=42)\n",
    "\n",
    "svr_kernel = 'rbf'\n",
    "#svr_kernel = 'linear'\n",
    "#svr_kernel = 'Sigmoid'\n",
    "#svr_kernel = 'poly'\n",
    "#svr_dgree = 2\n",
    "svr_dgree = 3\n",
    "#svr_dgree = 4\n",
    "#svr_dgree = 5\n",
    "model = SVR(kernel = svr_kernel, degree = svr_dgree)\n",
    "\n",
    "model.fit(xtrain, ytrain)\n",
    "\n",
    "ypred = model.predict(xtest)\n",
    "\n",
    "mse = mean_squared_error(ytest, ypred)\n",
    "rmse = np.sqrt(mse)\n",
    "r2_score = model.score(X, y)\n",
    "\n",
    "print(\"RMSE : \", rmse)\n",
    "print(\"R2 Score : \", r2_score)"
   ]
  },
  {
   "cell_type": "code",
   "execution_count": null,
   "metadata": {},
   "outputs": [],
   "source": []
  }
 ],
 "metadata": {
  "colab": {
   "name": "random_forest_regression.ipynb",
   "provenance": [],
   "toc_visible": true
  },
  "kernelspec": {
   "display_name": "Python 3",
   "language": "python",
   "name": "python3"
  },
  "language_info": {
   "codemirror_mode": {
    "name": "ipython",
    "version": 3
   },
   "file_extension": ".py",
   "mimetype": "text/x-python",
   "name": "python",
   "nbconvert_exporter": "python",
   "pygments_lexer": "ipython3",
   "version": "3.8.5"
  }
 },
 "nbformat": 4,
 "nbformat_minor": 1
}
